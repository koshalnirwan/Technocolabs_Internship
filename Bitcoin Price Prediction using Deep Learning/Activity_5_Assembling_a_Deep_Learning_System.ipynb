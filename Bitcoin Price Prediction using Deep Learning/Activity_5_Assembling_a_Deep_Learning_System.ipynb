{
 "cells": [
  {
   "cell_type": "markdown",
   "metadata": {},
   "source": [
    "# Activity 5: Assembling a Deep Learning System\n",
    "In this activity, we will train the first version of our LSTM model using Bitcoin daily closing prices. These prices will be organized using the weeks of both 2016 and 2017. We do that because we are interested in predicting the prices of a week's worth of trading."
   ]
  },
  {
   "cell_type": "code",
   "execution_count": 16,
   "metadata": {},
   "outputs": [
    {
     "data": {
      "application/javascript": [
       "IPython.notebook.set_autosave_interval(5000)"
      ]
     },
     "metadata": {},
     "output_type": "display_data"
    },
    {
     "name": "stdout",
     "output_type": "stream",
     "text": [
      "Autosaving every 5 seconds\n"
     ]
    }
   ],
   "source": [
    "%autosave 5\n",
    "\n",
    "#  Import necessary libraries\n",
    "import numpy as np\n",
    "import pandas as pd\n",
    "import matplotlib.pyplot as plt\n",
    "%matplotlib inline\n",
    "plt.style.use('seaborn-white')\n",
    "\n",
    "from keras.models import load_model"
   ]
  },
  {
   "cell_type": "code",
   "execution_count": 17,
   "metadata": {},
   "outputs": [
    {
     "data": {
      "text/html": [
       "<div>\n",
       "<style scoped>\n",
       "    .dataframe tbody tr th:only-of-type {\n",
       "        vertical-align: middle;\n",
       "    }\n",
       "\n",
       "    .dataframe tbody tr th {\n",
       "        vertical-align: top;\n",
       "    }\n",
       "\n",
       "    .dataframe thead th {\n",
       "        text-align: right;\n",
       "    }\n",
       "</style>\n",
       "<table border=\"1\" class=\"dataframe\">\n",
       "  <thead>\n",
       "    <tr style=\"text-align: right;\">\n",
       "      <th></th>\n",
       "      <th>date</th>\n",
       "      <th>iso_week</th>\n",
       "      <th>close</th>\n",
       "      <th>volume</th>\n",
       "      <th>close_point_relative_normalization</th>\n",
       "      <th>volume_point_relative_normalization</th>\n",
       "    </tr>\n",
       "  </thead>\n",
       "  <tbody>\n",
       "    <tr>\n",
       "      <th>0</th>\n",
       "      <td>2016-01-01</td>\n",
       "      <td>2016-00</td>\n",
       "      <td>434.33</td>\n",
       "      <td>36278900.0</td>\n",
       "      <td>1.000000</td>\n",
       "      <td>1.000000</td>\n",
       "    </tr>\n",
       "    <tr>\n",
       "      <th>1</th>\n",
       "      <td>2016-01-02</td>\n",
       "      <td>2016-00</td>\n",
       "      <td>433.44</td>\n",
       "      <td>30096600.0</td>\n",
       "      <td>0.000000</td>\n",
       "      <td>0.000000</td>\n",
       "    </tr>\n",
       "    <tr>\n",
       "      <th>2</th>\n",
       "      <td>2016-01-03</td>\n",
       "      <td>2016-01</td>\n",
       "      <td>430.01</td>\n",
       "      <td>39633800.0</td>\n",
       "      <td>0.031099</td>\n",
       "      <td>0.133054</td>\n",
       "    </tr>\n",
       "    <tr>\n",
       "      <th>3</th>\n",
       "      <td>2016-01-04</td>\n",
       "      <td>2016-01</td>\n",
       "      <td>433.09</td>\n",
       "      <td>38477500.0</td>\n",
       "      <td>0.137526</td>\n",
       "      <td>0.112139</td>\n",
       "    </tr>\n",
       "    <tr>\n",
       "      <th>4</th>\n",
       "      <td>2016-01-05</td>\n",
       "      <td>2016-01</td>\n",
       "      <td>431.96</td>\n",
       "      <td>34522600.0</td>\n",
       "      <td>0.098480</td>\n",
       "      <td>0.040601</td>\n",
       "    </tr>\n",
       "  </tbody>\n",
       "</table>\n",
       "</div>"
      ],
      "text/plain": [
       "         date iso_week   close      volume  \\\n",
       "0  2016-01-01  2016-00  434.33  36278900.0   \n",
       "1  2016-01-02  2016-00  433.44  30096600.0   \n",
       "2  2016-01-03  2016-01  430.01  39633800.0   \n",
       "3  2016-01-04  2016-01  433.09  38477500.0   \n",
       "4  2016-01-05  2016-01  431.96  34522600.0   \n",
       "\n",
       "   close_point_relative_normalization  volume_point_relative_normalization  \n",
       "0                            1.000000                             1.000000  \n",
       "1                            0.000000                             0.000000  \n",
       "2                            0.031099                             0.133054  \n",
       "3                            0.137526                             0.112139  \n",
       "4                            0.098480                             0.040601  "
      ]
     },
     "execution_count": 17,
     "metadata": {},
     "output_type": "execute_result"
    }
   ],
   "source": [
    "#  Import training dataset\n",
    "train = pd.read_csv('data/train_dataset.csv')\n",
    "train.head()"
   ]
  },
  {
   "cell_type": "markdown",
   "metadata": {},
   "source": [
    "## Reshape Data"
   ]
  },
  {
   "cell_type": "code",
   "execution_count": 18,
   "metadata": {},
   "outputs": [],
   "source": [
    "def create_groups(data, group_size=7):\n",
    "    \"\"\"Create distinct groups from a continuous series.\n",
    "    \n",
    "    Parameters\n",
    "    ----------\n",
    "    data: np.array\n",
    "        Series of continious observations.\n",
    "\n",
    "    group_size: int, default 7\n",
    "        Determines how large the groups are. That is,\n",
    "        how many observations each group contains.\n",
    "    \n",
    "    Returns\n",
    "    -------\n",
    "    A Numpy array object. \n",
    "    \"\"\"\n",
    "    samples = []\n",
    "    for i in range(0, len(data), group_size):\n",
    "        sample = list(data[i:i + group_size])\n",
    "        if len(sample) == group_size:\n",
    "            samples.append(np.array(sample).reshape(1, group_size))\n",
    "    \n",
    "    return np.array(samples)"
   ]
  },
  {
   "cell_type": "code",
   "execution_count": 19,
   "metadata": {},
   "outputs": [
    {
     "data": {
      "text/plain": [
       "2"
      ]
     },
     "execution_count": 19,
     "metadata": {},
     "output_type": "execute_result"
    }
   ],
   "source": [
    "#  Find the remainder when the number of observations is divided by group size\n",
    "len(train) % 7"
   ]
  },
  {
   "cell_type": "code",
   "execution_count": 20,
   "metadata": {},
   "outputs": [
    {
     "name": "stdout",
     "output_type": "stream",
     "text": [
      "(77, 1, 7)\n"
     ]
    }
   ],
   "source": [
    "#  Create groups of 7 from our data.\n",
    "#  We drop the first two observations so that the\n",
    "#  number of total observations is divisible by the `group_size`.\n",
    "data = create_groups(train['close_point_relative_normalization'][2:].values)\n",
    "print(data.shape)"
   ]
  },
  {
   "cell_type": "code",
   "execution_count": 21,
   "metadata": {},
   "outputs": [
    {
     "name": "stdout",
     "output_type": "stream",
     "text": [
      "(1, 76, 7)\n",
      "(1, 7)\n"
     ]
    }
   ],
   "source": [
    "#  Reshape data into format expected by LSTM layer\n",
    "X_train = data[:-1, :].reshape(1, 76, 7)\n",
    "Y_validation = data[-1].reshape(1, 7)\n",
    "print(X_train.shape)\n",
    "print(Y_validation.shape)"
   ]
  },
  {
   "cell_type": "markdown",
   "metadata": {},
   "source": [
    "## Load Our Model"
   ]
  },
  {
   "cell_type": "code",
   "execution_count": 22,
   "metadata": {},
   "outputs": [],
   "source": [
    "#  Load our previously trained model \n",
    "model = load_model('bitcoin_lstm_v0.h5')"
   ]
  },
  {
   "cell_type": "markdown",
   "metadata": {},
   "source": [
    "## Train model"
   ]
  },
  {
   "cell_type": "code",
   "execution_count": 23,
   "metadata": {
    "scrolled": true
   },
   "outputs": [
    {
     "name": "stdout",
     "output_type": "stream",
     "text": [
      "Epoch 1/100\n",
      "1/1 [==============================] - 5s 5s/step - loss: 0.4763\n",
      "Epoch 2/100\n",
      "1/1 [==============================] - 0s 62ms/step - loss: 0.4480\n",
      "Epoch 3/100\n",
      "1/1 [==============================] - 0s 45ms/step - loss: 0.4286\n",
      "Epoch 4/100\n",
      "1/1 [==============================] - 0s 62ms/step - loss: 0.4131\n",
      "Epoch 5/100\n",
      "1/1 [==============================] - 0s 53ms/step - loss: 0.3998\n",
      "Epoch 6/100\n",
      "1/1 [==============================] - 0s 47ms/step - loss: 0.3879\n",
      "Epoch 7/100\n",
      "1/1 [==============================] - 0s 100ms/step - loss: 0.3771\n",
      "Epoch 8/100\n",
      "1/1 [==============================] - 0s 38ms/step - loss: 0.3672\n",
      "Epoch 9/100\n",
      "1/1 [==============================] - 0s 62ms/step - loss: 0.3579\n",
      "Epoch 10/100\n",
      "1/1 [==============================] - 0s 56ms/step - loss: 0.3491\n",
      "Epoch 11/100\n",
      "1/1 [==============================] - 0s 66ms/step - loss: 0.3409\n",
      "Epoch 12/100\n",
      "1/1 [==============================] - 0s 31ms/step - loss: 0.3330\n",
      "Epoch 13/100\n",
      "1/1 [==============================] - 0s 38ms/step - loss: 0.3254\n",
      "Epoch 14/100\n",
      "1/1 [==============================] - 0s 31ms/step - loss: 0.3182\n",
      "Epoch 15/100\n",
      "1/1 [==============================] - 0s 53ms/step - loss: 0.3112\n",
      "Epoch 16/100\n",
      "1/1 [==============================] - 0s 116ms/step - loss: 0.3044\n",
      "Epoch 17/100\n",
      "1/1 [==============================] - 0s 78ms/step - loss: 0.2979\n",
      "Epoch 18/100\n",
      "1/1 [==============================] - 0s 138ms/step - loss: 0.2916\n",
      "Epoch 19/100\n",
      "1/1 [==============================] - 0s 115ms/step - loss: 0.2854\n",
      "Epoch 20/100\n",
      "1/1 [==============================] - 0s 16ms/step - loss: 0.2794\n",
      "Epoch 21/100\n",
      "1/1 [==============================] - 0s 54ms/step - loss: 0.2735\n",
      "Epoch 22/100\n",
      "1/1 [==============================] - 0s 47ms/step - loss: 0.2677\n",
      "Epoch 23/100\n",
      "1/1 [==============================] - 0s 22ms/step - loss: 0.2621\n",
      "Epoch 24/100\n",
      "1/1 [==============================] - 0s 31ms/step - loss: 0.2565\n",
      "Epoch 25/100\n",
      "1/1 [==============================] - 0s 47ms/step - loss: 0.2511\n",
      "Epoch 26/100\n",
      "1/1 [==============================] - 0s 38ms/step - loss: 0.2457\n",
      "Epoch 27/100\n",
      "1/1 [==============================] - 0s 31ms/step - loss: 0.2404\n",
      "Epoch 28/100\n",
      "1/1 [==============================] - 0s 31ms/step - loss: 0.2351\n",
      "Epoch 29/100\n",
      "1/1 [==============================] - 0s 53ms/step - loss: 0.2299\n",
      "Epoch 30/100\n",
      "1/1 [==============================] - 0s 31ms/step - loss: 0.2248\n",
      "Epoch 31/100\n",
      "1/1 [==============================] - 0s 38ms/step - loss: 0.2197\n",
      "Epoch 32/100\n",
      "1/1 [==============================] - 0s 47ms/step - loss: 0.2146\n",
      "Epoch 33/100\n",
      "1/1 [==============================] - 0s 31ms/step - loss: 0.2096\n",
      "Epoch 34/100\n",
      "1/1 [==============================] - 0s 38ms/step - loss: 0.2047\n",
      "Epoch 35/100\n",
      "1/1 [==============================] - 0s 31ms/step - loss: 0.1997\n",
      "Epoch 36/100\n",
      "1/1 [==============================] - 0s 31ms/step - loss: 0.1949\n",
      "Epoch 37/100\n",
      "1/1 [==============================] - 0s 38ms/step - loss: 0.1901\n",
      "Epoch 38/100\n",
      "1/1 [==============================] - 0s 43ms/step - loss: 0.1853\n",
      "Epoch 39/100\n",
      "1/1 [==============================] - 0s 24ms/step - loss: 0.1806\n",
      "Epoch 40/100\n",
      "1/1 [==============================] - 0s 31ms/step - loss: 0.1760\n",
      "Epoch 41/100\n",
      "1/1 [==============================] - 0s 47ms/step - loss: 0.1714\n",
      "Epoch 42/100\n",
      "1/1 [==============================] - 0s 38ms/step - loss: 0.1669\n",
      "Epoch 43/100\n",
      "1/1 [==============================] - 0s 62ms/step - loss: 0.1624\n",
      "Epoch 44/100\n",
      "1/1 [==============================] - 0s 38ms/step - loss: 0.1581\n",
      "Epoch 45/100\n",
      "1/1 [==============================] - 0s 100ms/step - loss: 0.1538\n",
      "Epoch 46/100\n",
      "1/1 [==============================] - 0s 31ms/step - loss: 0.1495\n",
      "Epoch 47/100\n",
      "1/1 [==============================] - 0s 31ms/step - loss: 0.1454\n",
      "Epoch 48/100\n",
      "1/1 [==============================] - 0s 38ms/step - loss: 0.1413\n",
      "Epoch 49/100\n",
      "1/1 [==============================] - 0s 31ms/step - loss: 0.1373\n",
      "Epoch 50/100\n",
      "1/1 [==============================] - 0s 31ms/step - loss: 0.1333\n",
      "Epoch 51/100\n",
      "1/1 [==============================] - 0s 31ms/step - loss: 0.1295\n",
      "Epoch 52/100\n",
      "1/1 [==============================] - 0s 25ms/step - loss: 0.1257\n",
      "Epoch 53/100\n",
      "1/1 [==============================] - 0s 31ms/step - loss: 0.1220\n",
      "Epoch 54/100\n",
      "1/1 [==============================] - 0s 31ms/step - loss: 0.1183\n",
      "Epoch 55/100\n",
      "1/1 [==============================] - 0s 34ms/step - loss: 0.1148\n",
      "Epoch 56/100\n",
      "1/1 [==============================] - 0s 47ms/step - loss: 0.1113\n",
      "Epoch 57/100\n",
      "1/1 [==============================] - 0s 38ms/step - loss: 0.1079\n",
      "Epoch 58/100\n",
      "1/1 [==============================] - 0s 31ms/step - loss: 0.1045\n",
      "Epoch 59/100\n",
      "1/1 [==============================] - 0s 47ms/step - loss: 0.1013\n",
      "Epoch 60/100\n",
      "1/1 [==============================] - 0s 53ms/step - loss: 0.0981\n",
      "Epoch 61/100\n",
      "1/1 [==============================] - 0s 62ms/step - loss: 0.0950\n",
      "Epoch 62/100\n",
      "1/1 [==============================] - 0s 49ms/step - loss: 0.0920\n",
      "Epoch 63/100\n",
      "1/1 [==============================] - 0s 31ms/step - loss: 0.0891\n",
      "Epoch 64/100\n",
      "1/1 [==============================] - 0s 31ms/step - loss: 0.0862\n",
      "Epoch 65/100\n",
      "1/1 [==============================] - 0s 31ms/step - loss: 0.0835\n",
      "Epoch 66/100\n",
      "1/1 [==============================] - 0s 38ms/step - loss: 0.0807\n",
      "Epoch 67/100\n",
      "1/1 [==============================] - 0s 31ms/step - loss: 0.0781\n",
      "Epoch 68/100\n",
      "1/1 [==============================] - 0s 31ms/step - loss: 0.0756\n",
      "Epoch 69/100\n",
      "1/1 [==============================] - 0s 53ms/step - loss: 0.0731\n",
      "Epoch 70/100\n",
      "1/1 [==============================] - 0s 31ms/step - loss: 0.0706\n",
      "Epoch 71/100\n",
      "1/1 [==============================] - 0s 38ms/step - loss: 0.0683\n",
      "Epoch 72/100\n",
      "1/1 [==============================] - 0s 31ms/step - loss: 0.0660\n",
      "Epoch 73/100\n",
      "1/1 [==============================] - 0s 38ms/step - loss: 0.0638\n",
      "Epoch 74/100\n",
      "1/1 [==============================] - 0s 31ms/step - loss: 0.0616\n",
      "Epoch 75/100\n",
      "1/1 [==============================] - 0s 47ms/step - loss: 0.0595\n",
      "Epoch 76/100\n",
      "1/1 [==============================] - 0s 31ms/step - loss: 0.0575\n",
      "Epoch 77/100\n",
      "1/1 [==============================] - 0s 69ms/step - loss: 0.0555\n",
      "Epoch 78/100\n",
      "1/1 [==============================] - 0s 31ms/step - loss: 0.0536\n",
      "Epoch 79/100\n",
      "1/1 [==============================] - 0s 53ms/step - loss: 0.0517\n",
      "Epoch 80/100\n",
      "1/1 [==============================] - 0s 31ms/step - loss: 0.0498\n",
      "Epoch 81/100\n",
      "1/1 [==============================] - 0s 31ms/step - loss: 0.0481\n",
      "Epoch 82/100\n",
      "1/1 [==============================] - 0s 31ms/step - loss: 0.0463\n",
      "Epoch 83/100\n",
      "1/1 [==============================] - 0s 38ms/step - loss: 0.0446\n",
      "Epoch 84/100\n",
      "1/1 [==============================] - 0s 31ms/step - loss: 0.0430\n",
      "Epoch 85/100\n",
      "1/1 [==============================] - 0s 53ms/step - loss: 0.0414\n",
      "Epoch 86/100\n",
      "1/1 [==============================] - 0s 100ms/step - loss: 0.0398\n",
      "Epoch 87/100\n",
      "1/1 [==============================] - 0s 47ms/step - loss: 0.0383\n",
      "Epoch 88/100\n",
      "1/1 [==============================] - 0s 31ms/step - loss: 0.0368\n",
      "Epoch 89/100\n",
      "1/1 [==============================] - 0s 31ms/step - loss: 0.0353\n",
      "Epoch 90/100\n",
      "1/1 [==============================] - 0s 47ms/step - loss: 0.0339\n",
      "Epoch 91/100\n",
      "1/1 [==============================] - 0s 38ms/step - loss: 0.0325\n",
      "Epoch 92/100\n",
      "1/1 [==============================] - 0s 31ms/step - loss: 0.0311\n",
      "Epoch 93/100\n",
      "1/1 [==============================] - 0s 69ms/step - loss: 0.0298\n",
      "Epoch 94/100\n",
      "1/1 [==============================] - 0s 31ms/step - loss: 0.0285\n",
      "Epoch 95/100\n",
      "1/1 [==============================] - 0s 22ms/step - loss: 0.0272\n",
      "Epoch 96/100\n",
      "1/1 [==============================] - 0s 31ms/step - loss: 0.0260\n",
      "Epoch 97/100\n",
      "1/1 [==============================] - 0s 31ms/step - loss: 0.0248\n",
      "Epoch 98/100\n",
      "1/1 [==============================] - 0s 22ms/step - loss: 0.0236\n",
      "Epoch 99/100\n",
      "1/1 [==============================] - 0s 47ms/step - loss: 0.0225\n",
      "Epoch 100/100\n",
      "1/1 [==============================] - 0s 53ms/step - loss: 0.0214\n",
      "Wall time: 17.9 s\n",
      "Parser   : 163 ms\n"
     ]
    }
   ],
   "source": [
    "%%time\n",
    "#  Train the model\n",
    "history = model.fit(\n",
    "    x=X_train, y=Y_validation,\n",
    "    batch_size=32, epochs=100)"
   ]
  },
  {
   "cell_type": "code",
   "execution_count": 24,
   "metadata": {},
   "outputs": [
    {
     "data": {
      "image/png": "[encoded data removed]",
      "text/plain": [
       "<Figure size 1008x288 with 1 Axes>"
      ]
     },
     "metadata": {},
     "output_type": "display_data"
    }
   ],
   "source": [
    "#  Plot loss function\n",
    "pd.Series(history.history['loss']).plot(figsize=(14, 4));"
   ]
  },
  {
   "cell_type": "markdown",
   "metadata": {},
   "source": [
    "## Make Predictions"
   ]
  },
  {
   "cell_type": "code",
   "execution_count": 25,
   "metadata": {},
   "outputs": [
    {
     "data": {
      "text/plain": [
       "array([3.4289435e-04, 2.1668187e-01, 8.1941712e-01, 7.2947282e-01,\n",
       "       5.9764481e-01, 8.4477663e-01, 3.6339007e-02], dtype=float32)"
      ]
     },
     "execution_count": 25,
     "metadata": {},
     "output_type": "execute_result"
    }
   ],
   "source": [
    "#  Make predictions using X_train data\n",
    "predictions = model.predict(x=X_train)[0]\n",
    "predictions"
   ]
  },
  {
   "cell_type": "code",
   "execution_count": 26,
   "metadata": {},
   "outputs": [],
   "source": [
    "def denormalize(series, last_value):\n",
    "    \"\"\"Denormalize the values for a given series.\n",
    "    \n",
    "    This uses the last value available (i.e. the last\n",
    "    closing price of the week before our prediction)\n",
    "    as a reference for scaling the predicted results.\n",
    "    \"\"\"\n",
    "    result = last_value * (series + 1)\n",
    "    return result"
   ]
  },
  {
   "cell_type": "code",
   "execution_count": 27,
   "metadata": {},
   "outputs": [
    {
     "data": {
      "text/plain": [
       "array([2656.7905, 3231.3608, 4832.1533, 4593.2725, 4243.153 , 4899.5054,\n",
       "       2752.392 ], dtype=float32)"
      ]
     },
     "execution_count": 27,
     "metadata": {},
     "output_type": "execute_result"
    }
   ],
   "source": [
    "#  Denormalize predictions\n",
    "last_weeks_value = train[train['date'] == train['date'][:-7].max()]['close'].values[0]\n",
    "\n",
    "denormalized_prediction = denormalize(predictions, last_weeks_value)\n",
    "denormalized_prediction"
   ]
  },
  {
   "cell_type": "code",
   "execution_count": 28,
   "metadata": {},
   "outputs": [
    {
     "data": {
      "image/png": "[encoded data removed]",
      "text/plain": [
       "<Figure size 1008x288 with 1 Axes>"
      ]
     },
     "metadata": {},
     "output_type": "display_data"
    }
   ],
   "source": [
    "#  Plot denormalized predictions against actual predictions\n",
    "plt.figure(figsize=(14, 4))\n",
    "\n",
    "plt.plot(train['close'][-7:].values, label='Actual')\n",
    "plt.plot(denormalized_prediction, color='#d35400', label='Predicted')\n",
    "\n",
    "plt.grid()\n",
    "plt.legend();"
   ]
  },
  {
   "cell_type": "code",
   "execution_count": 29,
   "metadata": {},
   "outputs": [
    {
     "data": {
      "text/plain": [
       "<matplotlib.legend.Legend at 0x193a97d6ba8>"
      ]
     },
     "execution_count": 29,
     "metadata": {},
     "output_type": "execute_result"
    },
    {
     "data": {
      "image/png": "[encoded data removed]",
      "text/plain": [
       "<Figure size 1008x288 with 1 Axes>"
      ]
     },
     "metadata": {},
     "output_type": "display_data"
    }
   ],
   "source": [
    "prediction_plot = np.zeros(len(train)-2)\n",
    "prediction_plot[:] = np.nan\n",
    "prediction_plot[-7:] = denormalized_prediction\n",
    "\n",
    "plt.figure(figsize=(14, 4))\n",
    "plt.plot(train['close'][-30:].values, label='Actual')\n",
    "plt.plot(prediction_plot[-30:], color='#d35400', linestyle='--', label='Predicted')\n",
    "plt.axvline(30 - 7, color='r', linestyle='--', linewidth=1)\n",
    "\n",
    "plt.grid()\n",
    "plt.legend(loc='lower right')"
   ]
  },
  {
   "cell_type": "code",
   "execution_count": 30,
   "metadata": {
    "eid": "8ce0c2"
   },
   "outputs": [],
   "source": [
    "#  TASK:\n",
    "#  Save model to disk\n",
    "#\n",
    "model.save('bitcoin_lstm_v0_trained.h5')"
   ]
  },
  {
   "cell_type": "markdown",
   "metadata": {},
   "source": [
    "In this activity, we have assembled a complete deep learning system: from data to prediction. The model created in this activity need a number of improvements before it can be considered useful. However, it serves as a great starting point from which we will continuously improve."
   ]
  }
 ],
 "metadata": {
  "kernelspec": {
   "display_name": "Python 3",
   "language": "python",
   "name": "python3"
  },
  "language_info": {
   "codemirror_mode": {
    "name": "ipython",
    "version": 3
   },
   "file_extension": ".py",
   "mimetype": "text/x-python",
   "name": "python",
   "nbconvert_exporter": "python",
   "pygments_lexer": "ipython3",
   "version": "3.7.3"
  }
 },
 "nbformat": 4,
 "nbformat_minor": 2
}
