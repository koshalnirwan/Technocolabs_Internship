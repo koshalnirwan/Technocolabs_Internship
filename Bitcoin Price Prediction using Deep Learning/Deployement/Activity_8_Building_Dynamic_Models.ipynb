{
 "cells": [
  {
   "cell_type": "markdown",
   "metadata": {},
   "source": [
    "# Activity 8: Re-training a model dynamically\n",
    "In this activity, we re-train our model every time new data is available.\n",
    "\n",
    "First, we start by importing `cryptonic`. Cryptonic is a simple software application developed for this course that implements all the steps up to this section using Python classes and modules. Consider Cryptonic a template on how you could develop similar applications."
   ]
  },
  {
   "cell_type": "code",
   "execution_count": 2,
   "metadata": {},
   "outputs": [
    {
     "data": {
      "application/javascript": [
       "IPython.notebook.set_autosave_interval(5000)"
      ]
     },
     "metadata": {},
     "output_type": "display_data"
    },
    {
     "name": "stdout",
     "output_type": "stream",
     "text": [
      "Autosaving every 5 seconds\n"
     ]
    }
   ],
   "source": [
    "from cryptonic import Model\n",
    "from cryptonic import CoinMarketCap\n",
    "from cryptonic.models import normalizations\n",
    "\n",
    "from tqdm import tqdm_notebook\n",
    "import pandas as pd\n",
    "\n",
    "%autosave 5\n",
    "%matplotlib inline"
   ]
  },
  {
   "cell_type": "markdown",
   "metadata": {},
   "source": [
    "## Fetching Real-time Data\n",
    "Throughout this project we have been using data originally provided by [CoinMarketCat](https://coinmarketcap.com/). We have created an interface for collecting both real-time and historical data as as part of `cryptonic`: the class `CoinMarketCap()`."
   ]
  },
  {
   "cell_type": "code",
   "execution_count": 2,
   "metadata": {},
   "outputs": [
    {
     "name": "stdout",
     "output_type": "stream",
     "text": [
      "\n",
      "\n",
      "        Crypto-currency data comes from the website CoinMarketCap.\n",
      "        CoinMarketCap is can be accessed at: https://coinmarketcap.com/\n",
      "\n",
      "        The permission to use the data is available on their FAQ\n",
      "\n",
      "            https://coinmarketcap.com/faq/\n",
      "\n",
      "        and reads:\n",
      "\n",
      "            \"Q: Am I allowed to use content (screenshots, data, graphs, etc.) \n",
      "            for one of my personal projects and/or commercial use?\n",
      "\n",
      "            R: Absolutely! Feel free to use any content as you see fit. \n",
      "            We kindly ask that you cite us as a source.\"\n",
      "        \n",
      "        \n"
     ]
    }
   ],
   "source": [
    "print(CoinMarketCap())"
   ]
  },
  {
   "cell_type": "markdown",
   "metadata": {},
   "source": [
    "Our model is designed to work with daily data. Let's go ahead and collect historic daily data from CoinMarketCap (this is the same data used previously)."
   ]
  },
  {
   "cell_type": "code",
   "execution_count": 3,
   "metadata": {},
   "outputs": [
    {
     "data": {
      "text/html": [
       "<div>\n",
       "<style scoped>\n",
       "    .dataframe tbody tr th:only-of-type {\n",
       "        vertical-align: middle;\n",
       "    }\n",
       "\n",
       "    .dataframe tbody tr th {\n",
       "        vertical-align: top;\n",
       "    }\n",
       "\n",
       "    .dataframe thead th {\n",
       "        text-align: right;\n",
       "    }\n",
       "</style>\n",
       "<table border=\"1\" class=\"dataframe\">\n",
       "  <thead>\n",
       "    <tr style=\"text-align: right;\">\n",
       "      <th></th>\n",
       "      <th>date</th>\n",
       "      <th>open</th>\n",
       "      <th>high</th>\n",
       "      <th>low</th>\n",
       "      <th>close</th>\n",
       "      <th>volume</th>\n",
       "      <th>market_cap</th>\n",
       "    </tr>\n",
       "  </thead>\n",
       "  <tbody>\n",
       "    <tr>\n",
       "      <th>2736</th>\n",
       "      <td>2013-05-02</td>\n",
       "      <td>116.38</td>\n",
       "      <td>125.60</td>\n",
       "      <td>92.28</td>\n",
       "      <td>105.21</td>\n",
       "      <td>0</td>\n",
       "      <td>1168517495</td>\n",
       "    </tr>\n",
       "    <tr>\n",
       "      <th>2737</th>\n",
       "      <td>2013-05-01</td>\n",
       "      <td>139.00</td>\n",
       "      <td>139.89</td>\n",
       "      <td>107.72</td>\n",
       "      <td>116.99</td>\n",
       "      <td>0</td>\n",
       "      <td>1298954594</td>\n",
       "    </tr>\n",
       "    <tr>\n",
       "      <th>2738</th>\n",
       "      <td>2013-04-30</td>\n",
       "      <td>144.00</td>\n",
       "      <td>146.93</td>\n",
       "      <td>134.05</td>\n",
       "      <td>139.00</td>\n",
       "      <td>0</td>\n",
       "      <td>1542813125</td>\n",
       "    </tr>\n",
       "    <tr>\n",
       "      <th>2739</th>\n",
       "      <td>2013-04-29</td>\n",
       "      <td>134.44</td>\n",
       "      <td>147.49</td>\n",
       "      <td>134.00</td>\n",
       "      <td>144.54</td>\n",
       "      <td>0</td>\n",
       "      <td>1603768865</td>\n",
       "    </tr>\n",
       "    <tr>\n",
       "      <th>2740</th>\n",
       "      <td>2013-04-28</td>\n",
       "      <td>135.30</td>\n",
       "      <td>135.98</td>\n",
       "      <td>132.10</td>\n",
       "      <td>134.21</td>\n",
       "      <td>0</td>\n",
       "      <td>1488566728</td>\n",
       "    </tr>\n",
       "  </tbody>\n",
       "</table>\n",
       "</div>"
      ],
      "text/plain": [
       "            date    open    high     low   close  volume  market_cap\n",
       "2736  2013-05-02  116.38  125.60   92.28  105.21       0  1168517495\n",
       "2737  2013-05-01  139.00  139.89  107.72  116.99       0  1298954594\n",
       "2738  2013-04-30  144.00  146.93  134.05  139.00       0  1542813125\n",
       "2739  2013-04-29  134.44  147.49  134.00  144.54       0  1603768865\n",
       "2740  2013-04-28  135.30  135.98  132.10  134.21       0  1488566728"
      ]
     },
     "execution_count": 3,
     "metadata": {},
     "output_type": "execute_result"
    }
   ],
   "source": [
    "historic_data = CoinMarketCap.historic()\n",
    "historic_data.tail()"
   ]
  },
  {
   "cell_type": "markdown",
   "metadata": {},
   "source": [
    "The data contains practically the same variables from our earlier dataset. However, much of the data comes from an earlier period. Recent Bitcoin prices have gained a lot of volatility if compared to the prices of a few years ago. Before using this data in our model, let's make sure to filter it to dates after January 1, 2017."
   ]
  },
  {
   "cell_type": "code",
   "execution_count": 4,
   "metadata": {
    "eid": "0ff8fe",
    "scrolled": true
   },
   "outputs": [],
   "source": [
    "#\n",
    "#  Using the Pandas API, filter the dataframe\n",
    "#  for observations from 2017 only. \n",
    "# \n",
    "#  Hint: use the `date` variable.\n",
    "#\n",
    "model_data = historic_data[historic_data['date']>='2017-01-01']"
   ]
  },
  {
   "cell_type": "code",
   "execution_count": 5,
   "metadata": {},
   "outputs": [
    {
     "data": {
      "text/html": [
       "<div>\n",
       "<style scoped>\n",
       "    .dataframe tbody tr th:only-of-type {\n",
       "        vertical-align: middle;\n",
       "    }\n",
       "\n",
       "    .dataframe tbody tr th {\n",
       "        vertical-align: top;\n",
       "    }\n",
       "\n",
       "    .dataframe thead th {\n",
       "        text-align: right;\n",
       "    }\n",
       "</style>\n",
       "<table border=\"1\" class=\"dataframe\">\n",
       "  <thead>\n",
       "    <tr style=\"text-align: right;\">\n",
       "      <th></th>\n",
       "      <th>date</th>\n",
       "      <th>open</th>\n",
       "      <th>high</th>\n",
       "      <th>low</th>\n",
       "      <th>close</th>\n",
       "      <th>volume</th>\n",
       "      <th>market_cap</th>\n",
       "    </tr>\n",
       "  </thead>\n",
       "  <tbody>\n",
       "    <tr>\n",
       "      <th>1392</th>\n",
       "      <td>2017-01-05</td>\n",
       "      <td>1156.73</td>\n",
       "      <td>1191.10</td>\n",
       "      <td>910.42</td>\n",
       "      <td>1013.38</td>\n",
       "      <td>510199008</td>\n",
       "      <td>16300254795</td>\n",
       "    </tr>\n",
       "    <tr>\n",
       "      <th>1393</th>\n",
       "      <td>2017-01-04</td>\n",
       "      <td>1044.40</td>\n",
       "      <td>1159.42</td>\n",
       "      <td>1044.40</td>\n",
       "      <td>1154.73</td>\n",
       "      <td>344945984</td>\n",
       "      <td>18571869009</td>\n",
       "    </tr>\n",
       "    <tr>\n",
       "      <th>1394</th>\n",
       "      <td>2017-01-03</td>\n",
       "      <td>1021.60</td>\n",
       "      <td>1044.08</td>\n",
       "      <td>1021.60</td>\n",
       "      <td>1043.84</td>\n",
       "      <td>185168000</td>\n",
       "      <td>16786368910</td>\n",
       "    </tr>\n",
       "    <tr>\n",
       "      <th>1395</th>\n",
       "      <td>2017-01-02</td>\n",
       "      <td>998.62</td>\n",
       "      <td>1031.39</td>\n",
       "      <td>996.70</td>\n",
       "      <td>1021.75</td>\n",
       "      <td>222184992</td>\n",
       "      <td>16429024775</td>\n",
       "    </tr>\n",
       "    <tr>\n",
       "      <th>1396</th>\n",
       "      <td>2017-01-01</td>\n",
       "      <td>963.66</td>\n",
       "      <td>1003.08</td>\n",
       "      <td>958.70</td>\n",
       "      <td>998.33</td>\n",
       "      <td>147775008</td>\n",
       "      <td>16050407461</td>\n",
       "    </tr>\n",
       "  </tbody>\n",
       "</table>\n",
       "</div>"
      ],
      "text/plain": [
       "            date     open     high      low    close     volume   market_cap\n",
       "1392  2017-01-05  1156.73  1191.10   910.42  1013.38  510199008  16300254795\n",
       "1393  2017-01-04  1044.40  1159.42  1044.40  1154.73  344945984  18571869009\n",
       "1394  2017-01-03  1021.60  1044.08  1021.60  1043.84  185168000  16786368910\n",
       "1395  2017-01-02   998.62  1031.39   996.70  1021.75  222184992  16429024775\n",
       "1396  2017-01-01   963.66  1003.08   958.70   998.33  147775008  16050407461"
      ]
     },
     "execution_count": 5,
     "metadata": {},
     "output_type": "execute_result"
    }
   ],
   "source": [
    "model_data.tail()"
   ]
  },
  {
   "cell_type": "markdown",
   "metadata": {},
   "source": [
    "## The `Model()` Class\n",
    "We have also created the class `Model()` which compiles all the code we have written so far. We will use that class to build, train, and evaluate our model."
   ]
  },
  {
   "cell_type": "code",
   "execution_count": 5,
   "metadata": {},
   "outputs": [],
   "source": [
    "M = Model(data=model_data,\n",
    "          variable='close',\n",
    "          predicted_period_size=7)"
   ]
  },
  {
   "cell_type": "code",
   "execution_count": 6,
   "metadata": {},
   "outputs": [
    {
     "data": {
      "text/plain": [
       "<keras.engine.sequential.Sequential at 0x2340cf395f8>"
      ]
     },
     "execution_count": 6,
     "metadata": {},
     "output_type": "execute_result"
    }
   ],
   "source": [
    "M.build()"
   ]
  },
  {
   "cell_type": "code",
   "execution_count": 7,
   "metadata": {
    "scrolled": true
   },
   "outputs": [
    {
     "name": "stdout",
     "output_type": "stream",
     "text": [
      "WARNING:tensorflow:From C:\\Users\\kosha\\Anaconda3\\lib\\site-packages\\keras\\backend\\tensorflow_backend.py:422: The name tf.global_variables is deprecated. Please use tf.compat.v1.global_variables instead.\n",
      "\n",
      "Epoch 1/100\n",
      "1/1 [==============================] - 9s 9s/step - loss: 0.0303\n",
      "Epoch 2/100\n",
      "1/1 [==============================] - 0s 119ms/step - loss: 0.0282\n",
      "Epoch 3/100\n",
      "1/1 [==============================] - 0s 91ms/step - loss: 0.0268\n",
      "Epoch 4/100\n",
      "1/1 [==============================] - 0s 98ms/step - loss: 0.0256\n",
      "Epoch 5/100\n",
      "1/1 [==============================] - 0s 86ms/step - loss: 0.0245\n",
      "Epoch 6/100\n",
      "1/1 [==============================] - 0s 74ms/step - loss: 0.0235\n",
      "Epoch 7/100\n",
      "1/1 [==============================] - 0s 76ms/step - loss: 0.0226\n",
      "Epoch 8/100\n",
      "1/1 [==============================] - 0s 86ms/step - loss: 0.0218\n",
      "Epoch 9/100\n",
      "1/1 [==============================] - 0s 88ms/step - loss: 0.0209\n",
      "Epoch 10/100\n",
      "1/1 [==============================] - 0s 102ms/step - loss: 0.0201\n",
      "Epoch 11/100\n",
      "1/1 [==============================] - 0s 76ms/step - loss: 0.0194\n",
      "Epoch 12/100\n",
      "1/1 [==============================] - 0s 82ms/step - loss: 0.0186\n",
      "Epoch 13/100\n",
      "1/1 [==============================] - 0s 74ms/step - loss: 0.0179\n",
      "Epoch 14/100\n",
      "1/1 [==============================] - 0s 84ms/step - loss: 0.0172\n",
      "Epoch 15/100\n",
      "1/1 [==============================] - 0s 359ms/step - loss: 0.0165\n",
      "Epoch 16/100\n",
      "1/1 [==============================] - 0s 148ms/step - loss: 0.0159\n",
      "Epoch 17/100\n",
      "1/1 [==============================] - 0s 140ms/step - loss: 0.0152\n",
      "Epoch 18/100\n",
      "1/1 [==============================] - 0s 120ms/step - loss: 0.0146\n",
      "Epoch 19/100\n",
      "1/1 [==============================] - 0s 115ms/step - loss: 0.0140\n",
      "Epoch 20/100\n",
      "1/1 [==============================] - 0s 123ms/step - loss: 0.0134\n",
      "Epoch 21/100\n",
      "1/1 [==============================] - 0s 93ms/step - loss: 0.0128\n",
      "Epoch 22/100\n",
      "1/1 [==============================] - 0s 140ms/step - loss: 0.0122\n",
      "Epoch 23/100\n",
      "1/1 [==============================] - 0s 125ms/step - loss: 0.0116\n",
      "Epoch 24/100\n",
      "1/1 [==============================] - 0s 183ms/step - loss: 0.0111\n",
      "Epoch 25/100\n",
      "1/1 [==============================] - 0s 143ms/step - loss: 0.0106\n",
      "Epoch 26/100\n",
      "1/1 [==============================] - 0s 147ms/step - loss: 0.0101\n",
      "Epoch 27/100\n",
      "1/1 [==============================] - 0s 85ms/step - loss: 0.0096\n",
      "Epoch 28/100\n",
      "1/1 [==============================] - 0s 76ms/step - loss: 0.0091\n",
      "Epoch 29/100\n",
      "1/1 [==============================] - 0s 70ms/step - loss: 0.0087\n",
      "Epoch 30/100\n",
      "1/1 [==============================] - 0s 70ms/step - loss: 0.0083\n",
      "Epoch 31/100\n",
      "1/1 [==============================] - 0s 72ms/step - loss: 0.0078\n",
      "Epoch 32/100\n",
      "1/1 [==============================] - 0s 68ms/step - loss: 0.0075\n",
      "Epoch 33/100\n",
      "1/1 [==============================] - 0s 69ms/step - loss: 0.0071\n",
      "Epoch 34/100\n",
      "1/1 [==============================] - 0s 72ms/step - loss: 0.0067\n",
      "Epoch 35/100\n",
      "1/1 [==============================] - 0s 81ms/step - loss: 0.0064\n",
      "Epoch 36/100\n",
      "1/1 [==============================] - 0s 69ms/step - loss: 0.0061\n",
      "Epoch 37/100\n",
      "1/1 [==============================] - 0s 110ms/step - loss: 0.0057\n",
      "Epoch 38/100\n",
      "1/1 [==============================] - 0s 113ms/step - loss: 0.0054\n",
      "Epoch 39/100\n",
      "1/1 [==============================] - 0s 115ms/step - loss: 0.0051\n",
      "Epoch 40/100\n",
      "1/1 [==============================] - 0s 126ms/step - loss: 0.0049\n",
      "Epoch 41/100\n",
      "1/1 [==============================] - 0s 86ms/step - loss: 0.0046\n",
      "Epoch 42/100\n",
      "1/1 [==============================] - 0s 103ms/step - loss: 0.0043\n",
      "Epoch 43/100\n",
      "1/1 [==============================] - 0s 106ms/step - loss: 0.0041\n",
      "Epoch 44/100\n",
      "1/1 [==============================] - 0s 86ms/step - loss: 0.0038\n",
      "Epoch 45/100\n",
      "1/1 [==============================] - 0s 80ms/step - loss: 0.0036\n",
      "Epoch 46/100\n",
      "1/1 [==============================] - 0s 110ms/step - loss: 0.0034\n",
      "Epoch 47/100\n",
      "1/1 [==============================] - 0s 89ms/step - loss: 0.0032\n",
      "Epoch 48/100\n",
      "1/1 [==============================] - 0s 72ms/step - loss: 0.0030\n",
      "Epoch 49/100\n",
      "1/1 [==============================] - 0s 67ms/step - loss: 0.0028\n",
      "Epoch 50/100\n",
      "1/1 [==============================] - 0s 74ms/step - loss: 0.0026\n",
      "Epoch 51/100\n",
      "1/1 [==============================] - 0s 72ms/step - loss: 0.0025\n",
      "Epoch 52/100\n",
      "1/1 [==============================] - 0s 68ms/step - loss: 0.0023\n",
      "Epoch 53/100\n",
      "1/1 [==============================] - 0s 70ms/step - loss: 0.0021\n",
      "Epoch 54/100\n",
      "1/1 [==============================] - 0s 85ms/step - loss: 0.0020\n",
      "Epoch 55/100\n",
      "1/1 [==============================] - 0s 90ms/step - loss: 0.0019\n",
      "Epoch 56/100\n",
      "1/1 [==============================] - 0s 72ms/step - loss: 0.0017\n",
      "Epoch 57/100\n",
      "1/1 [==============================] - 0s 73ms/step - loss: 0.0016\n",
      "Epoch 58/100\n",
      "1/1 [==============================] - 0s 69ms/step - loss: 0.0015\n",
      "Epoch 59/100\n",
      "1/1 [==============================] - 0s 71ms/step - loss: 0.0014\n",
      "Epoch 60/100\n",
      "1/1 [==============================] - 0s 70ms/step - loss: 0.0013\n",
      "Epoch 61/100\n",
      "1/1 [==============================] - 0s 77ms/step - loss: 0.0012\n",
      "Epoch 62/100\n",
      "1/1 [==============================] - 0s 68ms/step - loss: 0.0011\n",
      "Epoch 63/100\n",
      "1/1 [==============================] - 0s 69ms/step - loss: 9.9620e-04\n",
      "Epoch 64/100\n",
      "1/1 [==============================] - 0s 71ms/step - loss: 9.1403e-04\n",
      "Epoch 65/100\n",
      "1/1 [==============================] - 0s 87ms/step - loss: 8.3691e-04\n",
      "Epoch 66/100\n",
      "1/1 [==============================] - 0s 76ms/step - loss: 7.6462e-04\n",
      "Epoch 67/100\n",
      "1/1 [==============================] - 0s 87ms/step - loss: 6.9699e-04\n",
      "Epoch 68/100\n",
      "1/1 [==============================] - 0s 85ms/step - loss: 6.3381e-04\n",
      "Epoch 69/100\n",
      "1/1 [==============================] - 0s 80ms/step - loss: 5.7491e-04\n",
      "Epoch 70/100\n",
      "1/1 [==============================] - 0s 78ms/step - loss: 5.2010e-04\n",
      "Epoch 71/100\n",
      "1/1 [==============================] - 0s 74ms/step - loss: 4.6919e-04\n",
      "Epoch 72/100\n",
      "1/1 [==============================] - 0s 75ms/step - loss: 4.2203e-04\n",
      "Epoch 73/100\n",
      "1/1 [==============================] - 0s 77ms/step - loss: 3.7842e-04\n",
      "Epoch 74/100\n",
      "1/1 [==============================] - 0s 87ms/step - loss: 3.3820e-04\n",
      "Epoch 75/100\n",
      "1/1 [==============================] - 0s 89ms/step - loss: 3.0120e-04\n",
      "Epoch 76/100\n",
      "1/1 [==============================] - 0s 87ms/step - loss: 2.6726e-04\n",
      "Epoch 77/100\n",
      "1/1 [==============================] - 0s 82ms/step - loss: 2.3620e-04\n",
      "Epoch 78/100\n",
      "1/1 [==============================] - 0s 85ms/step - loss: 2.0789e-04\n",
      "Epoch 79/100\n",
      "1/1 [==============================] - 0s 84ms/step - loss: 1.8214e-04\n",
      "Epoch 80/100\n",
      "1/1 [==============================] - 0s 74ms/step - loss: 1.5882e-04\n",
      "Epoch 81/100\n",
      "1/1 [==============================] - 0s 74ms/step - loss: 1.3778e-04\n",
      "Epoch 82/100\n",
      "1/1 [==============================] - 0s 73ms/step - loss: 1.1887e-04\n",
      "Epoch 83/100\n",
      "1/1 [==============================] - 0s 72ms/step - loss: 1.0195e-04\n",
      "Epoch 84/100\n",
      "1/1 [==============================] - 0s 71ms/step - loss: 8.6893e-05\n",
      "Epoch 85/100\n",
      "1/1 [==============================] - 0s 72ms/step - loss: 7.3575e-05\n",
      "Epoch 86/100\n",
      "1/1 [==============================] - 0s 95ms/step - loss: 6.2077e-05\n",
      "Epoch 87/100\n",
      "1/1 [==============================] - 0s 70ms/step - loss: 5.4614e-05\n",
      "Epoch 88/100\n",
      "1/1 [==============================] - 0s 74ms/step - loss: 6.4494e-05\n",
      "Epoch 89/100\n",
      "1/1 [==============================] - 0s 86ms/step - loss: 8.3709e-05\n",
      "Epoch 90/100\n",
      "1/1 [==============================] - 0s 102ms/step - loss: 5.8765e-05\n",
      "Epoch 91/100\n",
      "1/1 [==============================] - 0s 116ms/step - loss: 4.3064e-05\n",
      "Epoch 92/100\n",
      "1/1 [==============================] - 0s 102ms/step - loss: 2.6791e-05\n",
      "Epoch 93/100\n",
      "1/1 [==============================] - 0s 82ms/step - loss: 1.9779e-05\n",
      "Epoch 94/100\n",
      "1/1 [==============================] - 0s 78ms/step - loss: 1.4566e-05\n",
      "Epoch 95/100\n",
      "1/1 [==============================] - 0s 101ms/step - loss: 1.1379e-05\n",
      "Epoch 96/100\n",
      "1/1 [==============================] - 0s 110ms/step - loss: 8.9473e-06\n",
      "Epoch 97/100\n",
      "1/1 [==============================] - 0s 94ms/step - loss: 7.5081e-06\n",
      "Epoch 98/100\n",
      "1/1 [==============================] - 0s 77ms/step - loss: 6.6826e-06\n"
     ]
    },
    {
     "name": "stdout",
     "output_type": "stream",
     "text": [
      "Epoch 99/100\n",
      "1/1 [==============================] - 0s 97ms/step - loss: 7.1027e-06\n",
      "Epoch 100/100\n",
      "1/1 [==============================] - 0s 93ms/step - loss: 8.6075e-06\n"
     ]
    },
    {
     "data": {
      "text/plain": [
       "<keras.callbacks.callbacks.History at 0x2340d07d710>"
      ]
     },
     "execution_count": 7,
     "metadata": {},
     "output_type": "execute_result"
    }
   ],
   "source": [
    "M.train(epochs=100, verbose=1)"
   ]
  },
  {
   "cell_type": "markdown",
   "metadata": {},
   "source": [
    "We can now use the model for making predictions with the `predict()` method. The parameter `denormalized` will return values in the original scale of the data. In our case, US dollars."
   ]
  },
  {
   "cell_type": "code",
   "execution_count": 12,
   "metadata": {},
   "outputs": [
    {
     "data": {
      "text/plain": [
       "array([13265.805, 15451.118, 15348.878, 15502.748, 15475.497, 15344.149,\n",
       "       17214.115], dtype=float32)"
      ]
     },
     "execution_count": 12,
     "metadata": {},
     "output_type": "execute_result"
    }
   ],
   "source": [
    "M.predict(denormalized=True)"
   ]
  },
  {
   "cell_type": "markdown",
   "metadata": {},
   "source": [
    "We now evaluate our model to inspect the statistics for the last epoch of training compared to a single test week."
   ]
  },
  {
   "cell_type": "code",
   "execution_count": 13,
   "metadata": {},
   "outputs": [
    {
     "data": {
      "text/plain": [
       "{'mse': 0.0, 'rmse': 2404.62, 'mape': 16.2}"
      ]
     },
     "execution_count": 13,
     "metadata": {},
     "output_type": "execute_result"
    }
   ],
   "source": [
    "M.evaluate()"
   ]
  },
  {
   "cell_type": "markdown",
   "metadata": {},
   "source": [
    "Finally, we can now save the trained model on disk for later use."
   ]
  },
  {
   "cell_type": "code",
   "execution_count": 21,
   "metadata": {},
   "outputs": [],
   "source": [
    "M.save('bitcoin_model_prod_v00.h5')"
   ]
  },
  {
   "cell_type": "markdown",
   "metadata": {},
   "source": [
    "Our `Model()` class can also load a previously trained model when instantiated with the `path` parameter."
   ]
  },
  {
   "cell_type": "code",
   "execution_count": 16,
   "metadata": {},
   "outputs": [],
   "source": [
    "M = Model(path='bitcoin_model_prod_v00.h5',\n",
    "          data=model_data,\n",
    "          variable='close',\n",
    "          predicted_period_size=7)"
   ]
  },
  {
   "cell_type": "code",
   "execution_count": 17,
   "metadata": {},
   "outputs": [
    {
     "data": {
      "text/plain": [
       "array([13400.709, 15491.156, 15486.53 , 15517.533, 15446.425, 15380.349,\n",
       "       17265.262], dtype=float32)"
      ]
     },
     "execution_count": 17,
     "metadata": {},
     "output_type": "execute_result"
    }
   ],
   "source": [
    "M.predict(denormalized=True)"
   ]
  },
  {
   "cell_type": "markdown",
   "metadata": {},
   "source": [
    "## New Data, Re-train Old Model\n",
    "One strategy discussed earlier regards the re-training of our model with new data. In our case, our biggest concern is to shape data in a way that the model has been configured. As an example, we will configure our model to predict a week using 40 weeks. We will first train the model with the first 40 weeks of 2017, then continue to re-train it over the following weeks until we reach week 50."
   ]
  },
  {
   "cell_type": "markdown",
   "metadata": {},
   "source": [
    "First, let's build a model with the first set of data. Notice how we use `7*40 + 7` as the indexer. This is because we use 40 weeks for training and 1 week for testing. "
   ]
  },
  {
   "cell_type": "code",
   "execution_count": 18,
   "metadata": {},
   "outputs": [],
   "source": [
    "M1 = Model(data=model_data[0*7:7*40 + 7],\n",
    "          variable='close',\n",
    "          predicted_period_size=7)"
   ]
  },
  {
   "cell_type": "code",
   "execution_count": 19,
   "metadata": {},
   "outputs": [
    {
     "data": {
      "text/plain": [
       "<keras.engine.sequential.Sequential at 0x23410306ba8>"
      ]
     },
     "execution_count": 19,
     "metadata": {},
     "output_type": "execute_result"
    }
   ],
   "source": [
    "M1.build()"
   ]
  },
  {
   "cell_type": "code",
   "execution_count": 20,
   "metadata": {},
   "outputs": [
    {
     "data": {
      "text/plain": [
       "<keras.callbacks.callbacks.History at 0x23420a63dd8>"
      ]
     },
     "execution_count": 20,
     "metadata": {},
     "output_type": "execute_result"
    }
   ],
   "source": [
    "M1.train()"
   ]
  },
  {
   "cell_type": "code",
   "execution_count": 21,
   "metadata": {
    "eid": "ffd950"
   },
   "outputs": [],
   "source": [
    "#\n",
    "#  Complete the range function and\n",
    "#  the model_data filtering parameters\n",
    "#  using an index to split the data in overlapping\n",
    "#  groups of 7 days. Then, re-train our model\n",
    "#  and collect the results.\n",
    "#\n",
    "#  The variables A, B, C, and D are placeholders.\n",
    "#\n",
    "results = []\n",
    "for i in range(1, 10 + 1):\n",
    "    M1.train(model_data[i * 7:7 * (40 + i) + 7])\n",
    "    results.append(M.evaluate())"
   ]
  },
  {
   "cell_type": "code",
   "execution_count": 22,
   "metadata": {},
   "outputs": [
    {
     "name": "stdout",
     "output_type": "stream",
     "text": [
      "Week 41: {'mse': 0.0, 'rmse': 2284.86, 'mape': 15.31}\n",
      "Week 42: {'mse': 0.0, 'rmse': 2284.86, 'mape': 15.31}\n",
      "Week 43: {'mse': 0.0, 'rmse': 2284.86, 'mape': 15.31}\n",
      "Week 44: {'mse': 0.0, 'rmse': 2284.86, 'mape': 15.31}\n",
      "Week 45: {'mse': 0.0, 'rmse': 2284.86, 'mape': 15.31}\n",
      "Week 46: {'mse': 0.0, 'rmse': 2284.86, 'mape': 15.31}\n",
      "Week 47: {'mse': 0.0, 'rmse': 2284.86, 'mape': 15.31}\n",
      "Week 48: {'mse': 0.0, 'rmse': 2284.86, 'mape': 15.31}\n",
      "Week 49: {'mse': 0.0, 'rmse': 2284.86, 'mape': 15.31}\n",
      "Week 50: {'mse': 0.0, 'rmse': 2284.86, 'mape': 15.31}\n"
     ]
    }
   ],
   "source": [
    "for i, result in enumerate(results):\n",
    "    print(f'Week {40+i+1}: {result}')"
   ]
  },
  {
   "cell_type": "code",
   "execution_count": 23,
   "metadata": {},
   "outputs": [
    {
     "data": {
      "text/plain": [
       "array([11763.159, 11781.231, 11705.402, 12098.664, 11777.905, 11765.833,\n",
       "       12380.267], dtype=float32)"
      ]
     },
     "execution_count": 23,
     "metadata": {},
     "output_type": "execute_result"
    }
   ],
   "source": [
    "M1.predict(denormalized=True)"
   ]
  },
  {
   "cell_type": "markdown",
   "metadata": {},
   "source": [
    "## New Data, New Model\n",
    "Another strategy is to create and train a new model evey time new data is available. This approach tends to reduce catastrophic forgetting, but training time increases as data increases. \n",
    "\n",
    "It's implementation is quite simple.\n",
    "\n",
    "Let's assume we have old data for 49 weeks of 2017 and after a week we now have new data. We represent this wtih the variables `old_data` and `new_data`. "
   ]
  },
  {
   "cell_type": "code",
   "execution_count": 24,
   "metadata": {},
   "outputs": [],
   "source": [
    "old_data = model_data[0*7:7*48 + 7]"
   ]
  },
  {
   "cell_type": "code",
   "execution_count": 25,
   "metadata": {},
   "outputs": [],
   "source": [
    "new_data = model_data[0*7:7*49 + 7]"
   ]
  },
  {
   "cell_type": "code",
   "execution_count": 29,
   "metadata": {},
   "outputs": [],
   "source": [
    "M2 = Model(data=old_data,\n",
    "          variable='close',\n",
    "          predicted_period_size=7)"
   ]
  },
  {
   "cell_type": "code",
   "execution_count": 30,
   "metadata": {},
   "outputs": [
    {
     "data": {
      "text/plain": [
       "<keras.callbacks.callbacks.History at 0x2347df19978>"
      ]
     },
     "execution_count": 30,
     "metadata": {},
     "output_type": "execute_result"
    }
   ],
   "source": [
    "M2.build()\n",
    "M2.train()"
   ]
  },
  {
   "cell_type": "code",
   "execution_count": 31,
   "metadata": {},
   "outputs": [
    {
     "data": {
      "text/plain": [
       "array([13291.273 , 12702.707 , 12611.3545, 12435.209 , 13052.275 ,\n",
       "       12854.446 , 13480.808 ], dtype=float32)"
      ]
     },
     "execution_count": 31,
     "metadata": {},
     "output_type": "execute_result"
    }
   ],
   "source": [
    "M2.predict(denormalized=True)"
   ]
  },
  {
   "cell_type": "markdown",
   "metadata": {},
   "source": [
    "Now, assume that new data is available. Using this technique we go ahead and create a new model using only the new data. "
   ]
  },
  {
   "cell_type": "code",
   "execution_count": 32,
   "metadata": {
    "eid": "0f2eb7"
   },
   "outputs": [],
   "source": [
    "#\n",
    "#  Re-instantiate the model with the Model()\n",
    "#  class using the new_data variable instead\n",
    "#  of the old_data one. \n",
    "#\n",
    "M3 = Model(data=new_data,\n",
    "          variable='close',\n",
    "          predicted_period_size=7)"
   ]
  },
  {
   "cell_type": "code",
   "execution_count": 33,
   "metadata": {},
   "outputs": [
    {
     "data": {
      "text/plain": [
       "<keras.callbacks.callbacks.History at 0x2348b1901d0>"
      ]
     },
     "execution_count": 33,
     "metadata": {},
     "output_type": "execute_result"
    }
   ],
   "source": [
    "M3.build()\n",
    "M3.train()"
   ]
  },
  {
   "cell_type": "code",
   "execution_count": 34,
   "metadata": {},
   "outputs": [
    {
     "data": {
      "text/plain": [
       "array([13295.038, 13599.138, 13725.435, 14205.102, 14140.812, 14049.945,\n",
       "       14425.465], dtype=float32)"
      ]
     },
     "execution_count": 34,
     "metadata": {},
     "output_type": "execute_result"
    }
   ],
   "source": [
    "M3.predict(denormalized=True)"
   ]
  },
  {
   "cell_type": "markdown",
   "metadata": {},
   "source": [
    "This approach is very simple to implement and tends to work well. We will be using this to deploy our application."
   ]
  }
 ],
 "metadata": {
  "kernelspec": {
   "display_name": "Python 3",
   "language": "python",
   "name": "python3"
  },
  "language_info": {
   "codemirror_mode": {
    "name": "ipython",
    "version": 3
   },
   "file_extension": ".py",
   "mimetype": "text/x-python",
   "name": "python",
   "nbconvert_exporter": "python",
   "pygments_lexer": "ipython3",
   "version": "3.7.3"
  }
 },
 "nbformat": 4,
 "nbformat_minor": 2
}
